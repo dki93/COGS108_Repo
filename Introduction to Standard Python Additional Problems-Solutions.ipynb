{
 "cells": [
  {
   "cell_type": "markdown",
   "metadata": {},
   "source": [
    "1)  \n",
    "Run the following code:  \n",
    "list_example = [1, 2, [3, 4, 5], 4, [4, 3, 5], 1]  \n",
    "new_list = []\n",
    "  \n",
    "a) Select the last element. You cannot assume that the list has a certain number of elements.  \n",
    "b) Flatten the list to a list without any elements that are lists, i.e., the output should be: [1, 2, 3, 4, 5, 4, 4, 3, 5, 1].  \n",
    "c) Find the maximum value in list_example.  \n",
    "d) Find the range (max-min) of the value in list_example.  \n",
    "e) Create a for loop to flatten list_example and save the flattened list in new_list. The for loop should be able to flatten any list with any number of elements and any number of elements that are lists (but not lists within lists within lists)."
   ]
  },
  {
   "cell_type": "code",
   "execution_count": 218,
   "metadata": {},
   "outputs": [
    {
     "name": "stdout",
     "output_type": "stream",
     "text": [
      "a [1]\n",
      "b [1, 2, 3, 4, 5, 4, 4, 3, 5, 1]\n",
      "c 5\n",
      "d 4\n"
     ]
    }
   ],
   "source": [
    "list_example = [1, 2, [3, 4, 5], 4, [4, 3, 5], 1] \n",
    "print('a', list_example[-1:])\n",
    "print('b', list_example[:2]+list_example[2]+[list_example[3]]+list_example[4]+[list_example[5]])\n",
    "print('c', max(list_example[:2]+list_example[2]+[list_example[3]]+list_example[4]+[list_example[5]]))\n",
    "flat_list = list_example[:2]+list_example[2]+[list_example[3]]+list_example[4]+[list_example[5]]\n",
    "print('d', max(flat_list)-min(flat_list))"
   ]
  },
  {
   "cell_type": "code",
   "execution_count": 96,
   "metadata": {},
   "outputs": [
    {
     "name": "stdout",
     "output_type": "stream",
     "text": [
      "[1, 2, 3, 4, 5, 4, 4, 3, 5]\n"
     ]
    }
   ],
   "source": [
    "for element in list_example:\n",
    "    if type(element) == list:\n",
    "        new_list = new_list + element\n",
    "    else:\n",
    "        new_list = new_list + [element]\n",
    "print(new_list)"
   ]
  },
  {
   "cell_type": "markdown",
   "metadata": {},
   "source": [
    "2)   \n",
    "Run the following code:  \n",
    "list_example_1 = [1, 2, 3, 4, 5]  \n",
    "list_example_2 = [4, 2, 3, 1, 3]  \n",
    "  \n",
    "a) Find the largest value in list_example_1 and list_example_2. The code should return 5.  \n",
    "b) Find the large value in the first two elements of list_example_1 (i.e., [1, 2]) and the last two elements of list_example_2 (i.e., [1, 3]). The code should return 3.  \n",
    "c) Compare the largest values in the two lists and return True if list_example_1 has the largest value.  "
   ]
  },
  {
   "cell_type": "code",
   "execution_count": 229,
   "metadata": {},
   "outputs": [
    {
     "name": "stdout",
     "output_type": "stream",
     "text": [
      "a 5\n",
      "b 3\n",
      "c True\n"
     ]
    }
   ],
   "source": [
    "list_example_1 = [1, 2, 3, 4, 5]  \n",
    "list_example_2 = [4, 2, 3, 1, 3]  \n",
    "\n",
    "print('a', max(list_example_1+list_example_2))\n",
    "print('b', max(list_example_1[:2]+list_example_2[-2:]))\n",
    "print('c', max(list_example_1)>max(list_example_2))"
   ]
  },
  {
   "cell_type": "markdown",
   "metadata": {},
   "source": [
    "3)  \n",
    "Run the following code:  \n",
    "City_State_ZIP = 'San Diego, CA 92303'  \n",
    "  \n",
    "Use string slicing and the s.index() method to create three new variables, city, state, and zip and populate these variables with respective values.  The code should work for other cities, states, and zip codes. You can assume that the city and the state are always separate by a comma and a space, i.e., ', ', and that this is the only comma in the string.  You can also assume that the state and the zip code is always separated by a space (and that this is the first space after the comma and the space that separated the city and the state). You cannot assume that state and the zip code contain two and five characters, respectively."
   ]
  },
  {
   "cell_type": "code",
   "execution_count": 230,
   "metadata": {},
   "outputs": [
    {
     "name": "stdout",
     "output_type": "stream",
     "text": [
      "San Diego\n"
     ]
    }
   ],
   "source": [
    "City_State_ZIP = 'San Diego, CA 92303'  \n",
    "city = City_State_ZIP[:City_State_ZIP.index(\",\")]\n",
    "print(city)"
   ]
  },
  {
   "cell_type": "code",
   "execution_count": 232,
   "metadata": {},
   "outputs": [
    {
     "name": "stdout",
     "output_type": "stream",
     "text": [
      "CA\n"
     ]
    }
   ],
   "source": [
    "state = City_State_ZIP[City_State_ZIP.index(\",\")+2:City_State_ZIP.index(\" \", City_State_ZIP.index(\",\")+2)]\n",
    "print(state)"
   ]
  },
  {
   "cell_type": "code",
   "execution_count": 234,
   "metadata": {},
   "outputs": [
    {
     "name": "stdout",
     "output_type": "stream",
     "text": [
      "92303\n"
     ]
    }
   ],
   "source": [
    "zip = City_State_ZIP[City_State_ZIP.index(\" \", City_State_ZIP.index(\",\")+2)+1:]\n",
    "print(zip)"
   ]
  },
  {
   "cell_type": "markdown",
   "metadata": {},
   "source": [
    "4)  \n",
    "Run the following code:   \n",
    "temperatures = [86, 78, 45, 23, 99, 103, -1, 83, 33]  \n",
    "temp_feel=[]  \n",
    "  \n",
    "a) create a for loop that assigns the word hot, warm, moderate, cool, or cold to the temp_feel list depending on the temparature (> 90 for hot, <=90 and >80 for warm, <=80 and >60 for moderate, <=60 and >40 for cool, and <=40 for cold) in the temperatures list.  \n",
    "b) change the for loop in 4.a to a list comprehension.  \n",
    "c) add the temperature before each word, e.g., '86: warm', '78: moderate, etc.  \n"
   ]
  },
  {
   "cell_type": "code",
   "execution_count": 133,
   "metadata": {},
   "outputs": [
    {
     "name": "stdout",
     "output_type": "stream",
     "text": [
      "['warm', 'moderate', 'cool', 'cold', 'hot', 'hot', 'cold', 'warm', 'cold']\n"
     ]
    }
   ],
   "source": [
    "temperatures = [86, 78, 45, 23, 99, 103, -1, 83, 33]\n",
    "temp_feel=[]\n",
    "for temp in temperatures:\n",
    "    if temp > 90:\n",
    "        temp_feel+=['hot']\n",
    "    elif temp > 80:\n",
    "        temp_feel+=['warm']\n",
    "    elif temp > 60:\n",
    "        temp_feel+=['moderate']\n",
    "    elif temp > 40:\n",
    "        temp_feel+=['cool']\n",
    "    else:\n",
    "        temp_feel+=['cold']\n",
    "print(temp_feel)"
   ]
  },
  {
   "cell_type": "code",
   "execution_count": 138,
   "metadata": {},
   "outputs": [
    {
     "name": "stdout",
     "output_type": "stream",
     "text": [
      "['warm', 'moderate', 'cool', 'cold', 'hot', 'hot', 'cold', 'warm', 'cold']\n"
     ]
    }
   ],
   "source": [
    "temp_feel=[]\n",
    "temp_feel = ['hot' if temp > 90 else 'warm' if temp > 80 else 'moderate' if temp > 60 else 'cool' if temp > 40 else 'cold' for temp in temperatures]\n",
    "print(temp_feel)"
   ]
  },
  {
   "cell_type": "code",
   "execution_count": 184,
   "metadata": {},
   "outputs": [
    {
     "name": "stdout",
     "output_type": "stream",
     "text": [
      "['86: warm', '78: moderate', '45: cool', '23: cold', '99: hot', '103: hot', '-1: cold', '83: warm', '33: cold']\n"
     ]
    }
   ],
   "source": [
    "temp_feel=[]\n",
    "temp_feel = [str(temp) + ': hot' if temp > 90 else str(temp) + ': warm' if temp > 80 else str(temp) + ': moderate' if temp > 60 else str(temp) + ': cool' if temp > 40 else str(temp) + ': cold' for temp in temperatures]\n",
    "print(temp_feel)"
   ]
  },
  {
   "cell_type": "markdown",
   "metadata": {},
   "source": [
    "5)  \n",
    "Run the following code:  \n",
    "quarterly_two_d_list = [['Year', 'Q1', 'Q2', 'Q3', 'Q4'], [2019, 2343, 2304, 2340, 4460], [2018, 2234, 2404, 2735, 2904]]  \n",
    "annual_two_d_list = [['Year', 'Sum']]  \n",
    "  \n",
    "a)  \n",
    "Note that quarterly_two_d_list and annual_two_d_list are lists of lists. The first list, quarterly_two_d_list will be used as input, and the second list, annual_two_d_list, will be used to store the results. For each list, I will refer to the elements of the outer list as the outer elements (these elements are the lists inside the outer list, e.g., ['Year', 'Q1', 'Q2', 'Q3', 'Q4']) and the elements of the lists inside the list as the inner elements (these are the individual values, e.g., 'Year', 2019, 2343, etc.). Create a for loop that iterates through the outer elements of quarterly_two_d_list. The for loop should populate the annual_two_d_list with lists that contain the year and the annual sum for that year, i.e., the output should look like this:  \n",
    "[['Year', 'Sum'], [2019, 11447], [2018, 10277]]  \n",
    "  \n",
    "To make this work you need to skip the first outer element in quarterly_two_d_list. Do this by examining the data type of one of the inner elements of each outer element being processed, e.g., type(2019) returns int. For each outer element with an inner element with data type of int, sum all the inner elements except for the first inner element (which is the year) and then add the first inner element and the sum of the other inner elements to annual_two_d_list. "
   ]
  },
  {
   "cell_type": "code",
   "execution_count": 238,
   "metadata": {},
   "outputs": [
    {
     "name": "stdout",
     "output_type": "stream",
     "text": [
      "[['Year', 'Sum'], [2019, 11447], [2018, 10277]]\n"
     ]
    }
   ],
   "source": [
    "quarterly_two_d_list = [['Year', 'Q1', 'Q2', 'Q3', 'Q4'],[2019, 2343, 2304, 2340, 4460],[2018, 2234, 2404, 2735, 2904]]\n",
    "annual_two_d_list = [['Year', 'Sum']]\n",
    "for outer_element in quarterly_two_d_list:\n",
    "    if type(outer_element[0]) == int:\n",
    "        annual_two_d_list = annual_two_d_list + [[outer_element[0], sum(outer_element[1:])]]\n",
    "print(annual_two_d_list)"
   ]
  },
  {
   "cell_type": "markdown",
   "metadata": {},
   "source": [
    "5.b)    \n",
    "Run the following code (note that the list is now an empty list, we earlier create the list with the strings 'Year' and 'Sum' added):  \n",
    "annual_two_d_list = []\n",
    "  \n",
    "Then modify 5.a to instead output:  \n",
    "[['2019_Sum', 11447], ['2018_Sum', 10277]]"
   ]
  },
  {
   "cell_type": "code",
   "execution_count": 239,
   "metadata": {},
   "outputs": [
    {
     "name": "stdout",
     "output_type": "stream",
     "text": [
      "[['2019_Sum', 11447], ['2018_Sum', 10277]]\n"
     ]
    }
   ],
   "source": [
    "annual_two_d_list = []\n",
    "for outer_element in quarterly_two_d_list:\n",
    "    if type(outer_element[0]) == int:\n",
    "        annual_two_d_list = annual_two_d_list + [[str(outer_element[0])+'_Sum', sum(outer_element[1:])]]\n",
    "print(annual_two_d_list)"
   ]
  },
  {
   "cell_type": "code",
   "execution_count": 172,
   "metadata": {},
   "outputs": [
    {
     "name": "stdout",
     "output_type": "stream",
     "text": [
      "[['2019_Average', 408262581.75], ['2018_Average', 256959759.75]]\n"
     ]
    }
   ],
   "source": [
    "annual_two_d_list = []\n",
    "for outer_element in quarterly_two_d_list:\n",
    "    if type(outer_element[0]) == int:\n",
    "        annual_two_d_list = annual_two_d_list + [[str(outer_element[0])+'_Average', sum(outer_element[1:])/len(outer_element[1:])]]\n",
    "print(annual_two_d_list)"
   ]
  },
  {
   "cell_type": "code",
   "execution_count": 173,
   "metadata": {},
   "outputs": [
    {
     "name": "stdout",
     "output_type": "stream",
     "text": [
      "[['Year', 'Sum', 'Average'], [2019, 1633050327, 408262581.75], [2018, 1027839039, 256959759.75]]\n"
     ]
    }
   ],
   "source": [
    "annual_two_d_list = [['Year', 'Sum', 'Average']]\n",
    "for outer_element in quarterly_two_d_list:\n",
    "    if type(outer_element[0]) == int:\n",
    "        annual_two_d_list = annual_two_d_list + [[outer_element[0], sum(outer_element[1:]), sum(outer_element[1:])/len(outer_element[1:])]]\n",
    "print(annual_two_d_list)"
   ]
  },
  {
   "cell_type": "code",
   "execution_count": 174,
   "metadata": {},
   "outputs": [
    {
     "name": "stdout",
     "output_type": "stream",
     "text": [
      "{2019: 1633050327, 2018: 1027839039}\n"
     ]
    }
   ],
   "source": [
    "annual_dictionary = {}\n",
    "for outer_element in quarterly_two_d_list:\n",
    "    if type(outer_element[0]) == int:\n",
    "        annual_dictionary[outer_element[0]] = sum(outer_element[1:])\n",
    "print(annual_dictionary)"
   ]
  },
  {
   "cell_type": "code",
   "execution_count": 177,
   "metadata": {},
   "outputs": [
    {
     "name": "stdout",
     "output_type": "stream",
     "text": [
      "{2019: [1633050327, 408262581.75], 2018: [1027839039, 256959759.75]}\n"
     ]
    }
   ],
   "source": [
    "annual_dictionary = {}\n",
    "for outer_element in quarterly_two_d_list:\n",
    "    if type(outer_element[0]) == int:\n",
    "        annual_dictionary[outer_element[0]] = [sum(outer_element[1:]), sum(outer_element[1:])/len(outer_element[1:])]\n",
    "print(annual_dictionary)"
   ]
  },
  {
   "cell_type": "code",
   "execution_count": 209,
   "metadata": {},
   "outputs": [
    {
     "name": "stdout",
     "output_type": "stream",
     "text": [
      "[131, 121, 77, 87, 189, 113, -9, 886, 56]\n",
      "[131, 121, 77, 87, 189, 113, -9, 886, 56]\n",
      "[131, 121, 77, 87, 189, 113, -9, 886, 56]\n",
      "[131, 121, 77, 87, 189, 113, -9, 886, 56]\n",
      "[131, 121, 77, 87, 189, 113, -9, 886]\n"
     ]
    }
   ],
   "source": [
    "list_1 = [86, 78, 45, 64, 99, 103, 1, 83, 33]\n",
    "list_2 = [45, 43, 32, 23, 90, 10, -10, 803, 23]\n",
    "list_3 = []\n",
    "list_4 = []\n",
    "list_5 = [45, 43, 32, 23, 90, 10, -10, 803]\n",
    "\n",
    "for i, v in enumerate(list_1):\n",
    "    list_3.append(v + list_2[i])\n",
    "        \n",
    "for i in range(len(list_1)):\n",
    "    list_4.append(list_1[i]+list_2[i])\n",
    "      \n",
    "print(list_3)\n",
    "print(list_4)\n",
    "\n",
    "print([v + list_2[i] for i, v in enumerate(list_1)])\n",
    "print([list_1[i]+list_2[i] for i in range(len(list_1))])\n",
    "\n",
    "print([list_1[i]+list_2[i] for i in range(min(len(list_1),len(list_5)))])\n",
    "\n",
    "#        for v in range (1000):\n",
    " #     print(v)\n",
    "  #  \n",
    "   # for k, v in dictionary_example.items():\n",
    "    # print('key:', k, 'and value: ', v)"
   ]
  },
  {
   "cell_type": "code",
   "execution_count": null,
   "metadata": {},
   "outputs": [],
   "source": []
  }
 ],
 "metadata": {
  "kernelspec": {
   "display_name": "Python 3",
   "language": "python",
   "name": "python3"
  },
  "language_info": {
   "codemirror_mode": {
    "name": "ipython",
    "version": 3
   },
   "file_extension": ".py",
   "mimetype": "text/x-python",
   "name": "python",
   "nbconvert_exporter": "python",
   "pygments_lexer": "ipython3",
   "version": "3.7.6"
  }
 },
 "nbformat": 4,
 "nbformat_minor": 4
}
